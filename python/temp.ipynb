{
 "cells": [
  {
   "cell_type": "code",
   "execution_count": 1,
   "metadata": {},
   "outputs": [],
   "source": [
    "import geoarrow.pyarrow as ga\n",
    "import pyarrow as pa\n",
    "import numpy as np"
   ]
  },
  {
   "cell_type": "code",
   "execution_count": 2,
   "metadata": {},
   "outputs": [],
   "source": [
    "n = int(1e6)\n",
    "xs = np.random.random(n)\n",
    "ys = np.random.random(n)\n",
    "\n",
    "# Worst case improvement: many points\n",
    "points = ga.point().wrap_array(pa.StructArray.from_arrays([xs, ys], names=[\"x\", \"y\"]))\n",
    "points_wkt = ga.as_wkt(points)\n",
    "\n",
    "# Best case improvement: one linestring\n",
    "linestring = ga.linestring().wrap_array(pa.ListArray.from_arrays([0, n], points.storage))\n",
    "linestring_wkt = ga.as_wkt(linestring)"
   ]
  },
  {
   "cell_type": "code",
   "execution_count": 3,
   "metadata": {},
   "outputs": [
    {
     "name": "stdout",
     "output_type": "stream",
     "text": [
      "204 ms ± 1.15 ms per loop (mean ± std. dev. of 7 runs, 1 loop each)\n",
      "85.8 ms ± 398 µs per loop (mean ± std. dev. of 7 runs, 10 loops each)\n"
     ]
    }
   ],
   "source": [
    "%timeit ga.as_geoarrow(points_wkt)\n",
    "%timeit ga.as_geoarrow(linestring_wkt)"
   ]
  },
  {
   "cell_type": "code",
   "execution_count": 4,
   "metadata": {},
   "outputs": [
    {
     "name": "stdout",
     "output_type": "stream",
     "text": [
      "635 ms ± 1.16 ms per loop (mean ± std. dev. of 7 runs, 1 loop each)\n",
      "606 ms ± 3.8 ms per loop (mean ± std. dev. of 7 runs, 1 loop each)\n"
     ]
    }
   ],
   "source": [
    "%timeit ga.as_wkt(points)\n",
    "%timeit ga.as_wkt(linestring)"
   ]
  },
  {
   "cell_type": "code",
   "execution_count": 7,
   "metadata": {},
   "outputs": [
    {
     "name": "stdout",
     "output_type": "stream",
     "text": [
      "141 ms ± 453 µs per loop (mean ± std. dev. of 7 runs, 10 loops each)\n",
      "52.5 ms ± 201 µs per loop (mean ± std. dev. of 7 runs, 10 loops each)\n"
     ]
    }
   ],
   "source": [
    "%timeit ga.as_geoarrow(points_wkt)\n",
    "%timeit ga.as_geoarrow(linestring_wkt)"
   ]
  },
  {
   "cell_type": "code",
   "execution_count": 8,
   "metadata": {},
   "outputs": [
    {
     "name": "stdout",
     "output_type": "stream",
     "text": [
      "629 ms ± 2.73 ms per loop (mean ± std. dev. of 7 runs, 1 loop each)\n",
      "601 ms ± 3.54 ms per loop (mean ± std. dev. of 7 runs, 1 loop each)\n"
     ]
    }
   ],
   "source": [
    "%timeit ga.as_wkt(points)\n",
    "%timeit ga.as_wkt(linestring)"
   ]
  }
 ],
 "metadata": {
  "kernelspec": {
   "display_name": "Python 3",
   "language": "python",
   "name": "python3"
  },
  "language_info": {
   "codemirror_mode": {
    "name": "ipython",
    "version": 3
   },
   "file_extension": ".py",
   "mimetype": "text/x-python",
   "name": "python",
   "nbconvert_exporter": "python",
   "pygments_lexer": "ipython3",
   "version": "3.11.2"
  },
  "orig_nbformat": 4
 },
 "nbformat": 4,
 "nbformat_minor": 2
}
