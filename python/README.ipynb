{
 "cells": [
  {
   "attachments": {},
   "cell_type": "markdown",
   "metadata": {},
   "source": [
    "# geoarrow for Python\n",
    "\n",
    "Python bindings for geoarrow-cpp. These are in a preliminary state: see open issues\n",
    "and tests/test_geoarrow.py for usage.\n",
    "\n",
    "## Installation\n",
    "\n",
    "Python bindings for nanoarrow are not yet available on PyPI. You can install via\n",
    "URL (requires a C compiler):\n",
    "\n",
    "```bash\n",
    "python -m pip install \"https://github.com/geoarrow/geoarrow-cpp/archive/refs/heads/main.zip#egg=geoarrow&subdirectory=python\"\n",
    "```\n",
    "\n",
    "If you can import the namespace, you're good to go! The only reasonable interface to geoarrow currently depends on `pyarrow`, which you can import with:"
   ]
  },
  {
   "cell_type": "code",
   "execution_count": 1,
   "metadata": {},
   "outputs": [],
   "source": [
    "import geoarrow.pyarrow as ga"
   ]
  },
  {
   "attachments": {},
   "cell_type": "markdown",
   "metadata": {},
   "source": [
    "## Examples\n",
    "\n",
    "You can create geoarrow types with `geoarrow.wkt()`, `geoarrow.wkb()`, and friends. Use the `.with_*()` modifiers to assign differing dimensions, geometry types, edge types, or coordinate reference system values; use `geoarrow.vector_type()` to specify everything at once."
   ]
  },
  {
   "cell_type": "code",
   "execution_count": 2,
   "metadata": {},
   "outputs": [
    {
     "data": {
      "text/plain": [
       "WkbType(geoarrow.wkb <EPSG:1234>)"
      ]
     },
     "execution_count": 2,
     "metadata": {},
     "output_type": "execute_result"
    }
   ],
   "source": [
    "ga.wkb().with_crs('EPSG:1234')"
   ]
  },
  {
   "cell_type": "code",
   "execution_count": 3,
   "metadata": {},
   "outputs": [
    {
     "data": {
      "text/plain": [
       "LinestringType(geoarrow.linestring_z)"
      ]
     },
     "execution_count": 3,
     "metadata": {},
     "output_type": "execute_result"
    }
   ],
   "source": [
    "ga.linestring().with_dimensions(ga.Dimensions.XYZ)"
   ]
  },
  {
   "attachments": {},
   "cell_type": "markdown",
   "metadata": {},
   "source": [
    "You can create arrays from iterables of Python objects using `geoarrow.array()`. String-like values are assumed to be (and are validated as) well-known text; bytes-like values are assumed to be (and are validated as) well-known binary."
   ]
  },
  {
   "cell_type": "code",
   "execution_count": 4,
   "metadata": {},
   "outputs": [
    {
     "data": {
      "text/plain": [
       "VectorArray:WktType(geoarrow.wkt)[1]\n",
       "<POINT (30 10)>\n"
      ]
     },
     "execution_count": 4,
     "metadata": {},
     "output_type": "execute_result"
    }
   ],
   "source": [
    "ga.array(['POINT (30 10)'], ga.wkt())"
   ]
  },
  {
   "attachments": {},
   "cell_type": "markdown",
   "metadata": {},
   "source": [
    "If you already have a `pyarrow.Array` or `pyarrow.ChunkedArray`, you can use `<Type>.wrap_array()`:"
   ]
  },
  {
   "cell_type": "code",
   "execution_count": 5,
   "metadata": {},
   "outputs": [
    {
     "data": {
      "text/plain": [
       "VectorArray:WktType(geoarrow.wkt)[1]\n",
       "<POINT (30 10)>\n"
      ]
     },
     "execution_count": 5,
     "metadata": {},
     "output_type": "execute_result"
    }
   ],
   "source": [
    "import pyarrow as pa\n",
    "existing_array = pa.array(['POINT (30 10)'])\n",
    "ga.wkt().wrap_array(existing_array)"
   ]
  },
  {
   "attachments": {},
   "cell_type": "markdown",
   "metadata": {},
   "source": [
    "## Geopandas\n",
    "\n",
    "You can convert from geopandas by going through well-known binary:"
   ]
  },
  {
   "cell_type": "code",
   "execution_count": 6,
   "metadata": {},
   "outputs": [
    {
     "name": "stderr",
     "output_type": "stream",
     "text": [
      "/Library/Frameworks/Python.framework/Versions/3.9/lib/python3.9/site-packages/geopandas/_compat.py:123: UserWarning: The Shapely GEOS version (3.11.1-CAPI-1.17.1) is incompatible with the GEOS version PyGEOS was compiled with (3.10.1-CAPI-1.16.0). Conversions between both will be slow.\n",
      "  warnings.warn(\n"
     ]
    }
   ],
   "source": [
    "import geopandas\n",
    "\n",
    "url = \"http://d2ad6b4ur7yvpq.cloudfront.net/naturalearth-3.3.0/ne_110m_land.geojson\"\n",
    "df = geopandas.read_file(url)\n",
    "wkb = pa.array(df.geometry.to_wkb())\n"
   ]
  },
  {
   "cell_type": "code",
   "execution_count": 7,
   "metadata": {},
   "outputs": [
    {
     "data": {
      "text/plain": [
       "VectorArray:WkbType(geoarrow.wkb <EPSG:4326>)[127]\n",
       "<POLYGON ((-59.57209469261153 -80.0401787250963, -59.8658493719746...>\n",
       "<POLYGON ((-159.2081835601977 -79.49705942170873, -161.12760128481...>\n",
       "<POLYGON ((-45.15475765642103 -78.04706960058674, -43.920827806155...>\n",
       "<POLYGON ((-121.2115113938571 -73.50099049900605, -119.91885127829...>\n",
       "<POLYGON ((-125.5595664068953 -73.48135345473521, -124.03188187726...>\n",
       "...117 values...\n",
       "<POLYGON ((51.13618655783139 80.54728017854103, 49.79368452332082 ...>\n",
       "<POLYGON ((99.93976000000001 78.88094, 97.75794 78.75620000000001,...>\n",
       "<POLYGON ((-87.02 79.66, -85.81435 79.3369, -87.18756 79.0393, -89...>\n",
       "<POLYGON ((-68.5 83.10632151676583, -65.82735 83.02801000000014, -...>\n",
       "<POLYGON ((-27.10046 83.51966, -20.84539 82.72669, -22.69182 82.34...>"
      ]
     },
     "execution_count": 7,
     "metadata": {},
     "output_type": "execute_result"
    }
   ],
   "source": [
    "ga_wkb = ga.wkb().with_crs(str(df.geometry.crs)).wrap_array(wkb)\n",
    "ga_wkb"
   ]
  },
  {
   "cell_type": "code",
   "execution_count": 8,
   "metadata": {},
   "outputs": [
    {
     "data": {
      "text/plain": [
       "PolygonArray:PolygonType(geoarrow.polygon <EPSG:4326>)[127]\n",
       "* 1 or more display values failed to parse\n",
       "* b'ArrowArray with offset != 0 is not yet supported in GeoArrowArrayViewSetArray()'\n",
       "<geoarrow.pyarrow.PolygonArray object at 0x12203b700>\n",
       "[\n",
       "  [\n",
       "    -- is_valid: all not null\n",
       "    -- child 0 type: double\n",
       "      [\n",
       "        -59.57209469261153,\n",
       "        -59.86584937197463,\n",
       "        -60.159655727770115,\n",
       "        -62.25539343936708,\n",
       "        -64.48812537296985,\n",
       "        -65.74166642928995,\n",
       "        -65.74166642928995,\n",
       "        -66.29003089055504,\n",
       "        -64.03768775089765,\n",
       "        -61.88324561221705,\n",
       "        -61.138975796133366,\n",
       "        -60.61011918805832,\n",
       "        -59.57209469261153\n",
       "      ]\n",
       "    -- child 1 type: double\n",
       "      [\n",
       "        -80.0401787250963,\n",
       "        -80.54965667106187,\n",
       "        -81.00032683707931,\n",
       "        -80.86317758577667,\n",
       "        -80.92193368929257,\n",
       "        -80.58882740673914,\n",
       "        -80.54965667106187,\n",
       "        -80.25577280061799,\n",
       "        -80.29494353629528,\n",
       "        -80.39287037548829,\n",
       "        -79.9813709451481,\n",
       "        -79.62867929475613,\n",
       "        -80.0401787250963\n",
       "      ]\n",
       "  ],\n",
       "  [\n",
       "    -- is_valid: all not null\n",
       "    -- child 0 type: double\n",
       "      [\n",
       "        -159.20818356019765,\n",
       "        -161.12760128481477,\n",
       "        -162.4398467682184,\n",
       "        -163.02740780337697,\n",
       "        -163.06660437727044,\n",
       "        -163.71289567772874,\n",
       "        -163.71289567772874,\n",
       "        -163.10580095116381,\n",
       "        -161.2451134918464,\n",
       "        -160.2462080556445,\n",
       "        -159.48240454815448,\n",
       "        -159.20818356019765\n",
       "      ]\n",
       "    -- child 1 type: double\n",
       "      [\n",
       "        -79.49705942170873,\n",
       "        -79.6342086730113,\n",
       "        -79.28146534618703,\n",
       "        -78.92877369579497,\n",
       "        -78.86996591584685,\n",
       "        -78.59566741324153,\n",
       "        -78.59566660579729,\n",
       "        -78.2233379111344,\n",
       "        -78.38017588314017,\n",
       "        -78.69364512142268,\n",
       "        -79.04633757925899,\n",
       "        -79.49705942170873\n",
       "      ]\n",
       "  ],\n",
       "  ...\n",
       "  [\n",
       "    -- is_valid: all not null\n",
       "    -- child 0 type: double\n",
       "      [\n",
       "        -68.5,\n",
       "        -65.82735,\n",
       "        -63.68,\n",
       "        -61.85,\n",
       "        -61.89388,\n",
       "        -64.334,\n",
       "        -66.75342,\n",
       "        -67.65755,\n",
       "        -65.48031,\n",
       "        -67.84,\n",
       "        ...\n",
       "        -84.260005,\n",
       "        -83.18,\n",
       "        -82.42,\n",
       "        -81.1,\n",
       "        -79.30664,\n",
       "        -76.25,\n",
       "        -75.71878,\n",
       "        -72.83153,\n",
       "        -70.665765,\n",
       "        -68.5\n",
       "      ]\n",
       "    -- child 1 type: double\n",
       "      [\n",
       "        83.10632151676583,\n",
       "        83.02801000000014,\n",
       "        82.9,\n",
       "        82.62860000000015,\n",
       "        82.36165,\n",
       "        81.92775,\n",
       "        81.72527,\n",
       "        81.50141,\n",
       "        81.50657,\n",
       "        80.9,\n",
       "        ...\n",
       "        82.6,\n",
       "        82.32,\n",
       "        82.86,\n",
       "        83.02,\n",
       "        83.13056,\n",
       "        83.1720588235294,\n",
       "        83.06404,\n",
       "        83.23324,\n",
       "        83.16978075838293,\n",
       "        83.10632151676583\n",
       "      ]\n",
       "  ],\n",
       "  [\n",
       "    -- is_valid: all not null\n",
       "    -- child 0 type: double\n",
       "      [\n",
       "        -27.10046,\n",
       "        -20.84539,\n",
       "        -22.69182,\n",
       "        -26.51753,\n",
       "        -31.9,\n",
       "        -31.39646,\n",
       "        -27.85666,\n",
       "        -24.84448,\n",
       "        -22.90327999999988,\n",
       "        -22.07175,\n",
       "        ...\n",
       "        -48.00386,\n",
       "        -46.59984,\n",
       "        -44.523,\n",
       "        -46.9007,\n",
       "        -46.76379,\n",
       "        -43.40644,\n",
       "        -39.89753,\n",
       "        -38.62214,\n",
       "        -35.08787,\n",
       "        -27.10046\n",
       "      ]\n",
       "    -- child 1 type: double\n",
       "      [\n",
       "        83.51966,\n",
       "        82.72669,\n",
       "        82.34165,\n",
       "        82.29765000000012,\n",
       "        82.2000000000001,\n",
       "        82.02154,\n",
       "        82.1317800000001,\n",
       "        81.78697000000011,\n",
       "        82.0931700000001,\n",
       "        81.73449000000011,\n",
       "        ...\n",
       "        82.06481,\n",
       "        81.9859450000001,\n",
       "        81.6607,\n",
       "        82.19979,\n",
       "        82.62796,\n",
       "        83.22516,\n",
       "        83.18018,\n",
       "        83.54905,\n",
       "        83.64513,\n",
       "        83.51966\n",
       "      ]\n",
       "  ]\n",
       "]"
      ]
     },
     "execution_count": 8,
     "metadata": {},
     "output_type": "execute_result"
    }
   ],
   "source": [
    "ga_wkb.as_geoarrow(ga.polygon())"
   ]
  },
  {
   "attachments": {},
   "cell_type": "markdown",
   "metadata": {},
   "source": [
    "## Building\n",
    "\n",
    "Python bindings for nanoarrow are managed with setuptools[setuptools]. This means you\n",
    "can build the project using:\n",
    "\n",
    "```shell\n",
    "git clone https://github.com/geoarrow/geoarrow-cpp.git\n",
    "cd python\n",
    "pip install -e .\n",
    "```\n",
    "\n",
    "Tests use [pytest][pytest]:\n",
    "\n",
    "```shell\n",
    "# Install dependencies\n",
    "pip install -e .[test]\n",
    "\n",
    "# Run tests\n",
    "pytest -vvx\n",
    "```\n",
    "\n",
    "[pytest]: https://docs.pytest.org/\n",
    "[setuptools]: https://setuptools.pypa.io/en/latest/index.html"
   ]
  }
 ],
 "metadata": {
  "kernelspec": {
   "display_name": "Python 3",
   "language": "python",
   "name": "python3"
  },
  "language_info": {
   "codemirror_mode": {
    "name": "ipython",
    "version": 3
   },
   "file_extension": ".py",
   "mimetype": "text/x-python",
   "name": "python",
   "nbconvert_exporter": "python",
   "pygments_lexer": "ipython3",
   "version": "3.9.6"
  },
  "orig_nbformat": 4
 },
 "nbformat": 4,
 "nbformat_minor": 2
}
