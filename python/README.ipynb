{
 "cells": [
  {
   "attachments": {},
   "cell_type": "markdown",
   "metadata": {},
   "source": [
    "# geoarrow for Python\n",
    "\n",
    "Python bindings for geoarrow-cpp. These are in a preliminary state: see open issues\n",
    "and tests/test_geoarrow.py for usage.\n",
    "\n",
    "## Installation\n",
    "\n",
    "Python bindings for nanoarrow are not yet available on PyPI. You can install via\n",
    "URL (requires a C compiler):\n",
    "\n",
    "```bash\n",
    "python -m pip install \"https://github.com/geoarrow/geoarrow-cpp/archive/refs/heads/main.zip#egg=geoarrow&subdirectory=python\"\n",
    "```\n",
    "\n",
    "If you can import the namespace, you're good to go! The only reasonable interface to geoarrow currently depends on `pyarrow`, which you can import with:"
   ]
  },
  {
   "cell_type": "code",
   "execution_count": 1,
   "metadata": {},
   "outputs": [],
   "source": [
    "import geoarrow.pyarrow as ga"
   ]
  },
  {
   "attachments": {},
   "cell_type": "markdown",
   "metadata": {},
   "source": [
    "## Examples\n",
    "\n",
    "You can create geoarrow types with `geoarrow.wkt()`, `geoarrow.wkb()`, and friends. Use the `.with_*()` modifiers to assign differing dimensions, geometry types, edge types, or coordinate reference system values; use `geoarrow.vector_type()` to specify everything at once."
   ]
  },
  {
   "cell_type": "code",
   "execution_count": 2,
   "metadata": {},
   "outputs": [
    {
     "data": {
      "text/plain": [
       "WkbType(geoarrow.wkb <EPSG:1234>)"
      ]
     },
     "execution_count": 2,
     "metadata": {},
     "output_type": "execute_result"
    }
   ],
   "source": [
    "ga.wkb().with_crs('EPSG:1234')"
   ]
  },
  {
   "cell_type": "code",
   "execution_count": 3,
   "metadata": {},
   "outputs": [
    {
     "data": {
      "text/plain": [
       "LinestringType(geoarrow.linestring_z)"
      ]
     },
     "execution_count": 3,
     "metadata": {},
     "output_type": "execute_result"
    }
   ],
   "source": [
    "ga.linestring().with_dimensions(ga.Dimensions.XYZ)"
   ]
  },
  {
   "attachments": {},
   "cell_type": "markdown",
   "metadata": {},
   "source": [
    "You can create arrays from iterables of Python objects using `geoarrow.array()`. String-like values are assumed to be (and are validated as) well-known text; bytes-like values are assumed to be (and are validated as) well-known binary."
   ]
  },
  {
   "cell_type": "code",
   "execution_count": 4,
   "metadata": {},
   "outputs": [
    {
     "data": {
      "text/plain": [
       "VectorArray:WktType(geoarrow.wkt)[1]\n",
       "<POINT (30 10)>\n"
      ]
     },
     "execution_count": 4,
     "metadata": {},
     "output_type": "execute_result"
    }
   ],
   "source": [
    "ga.array(['POINT (30 10)'], ga.wkt())"
   ]
  },
  {
   "attachments": {},
   "cell_type": "markdown",
   "metadata": {},
   "source": [
    "If you already have a `pyarrow.Array` or `pyarrow.ChunkedArray`, you can use `<Type>.wrap_array()`:"
   ]
  },
  {
   "cell_type": "code",
   "execution_count": 5,
   "metadata": {},
   "outputs": [
    {
     "data": {
      "text/plain": [
       "VectorArray:WktType(geoarrow.wkt)[1]\n",
       "<POINT (30 10)>\n"
      ]
     },
     "execution_count": 5,
     "metadata": {},
     "output_type": "execute_result"
    }
   ],
   "source": [
    "import pyarrow as pa\n",
    "existing_array = pa.array(['POINT (30 10)'])\n",
    "ga.wkt().wrap_array(existing_array)"
   ]
  },
  {
   "attachments": {},
   "cell_type": "markdown",
   "metadata": {},
   "source": [
    "## Geopandas\n",
    "\n",
    "You can convert from geopandas by going through well-known binary:"
   ]
  },
  {
   "cell_type": "code",
   "execution_count": 6,
   "metadata": {},
   "outputs": [
    {
     "name": "stderr",
     "output_type": "stream",
     "text": [
      "/Library/Frameworks/Python.framework/Versions/3.9/lib/python3.9/site-packages/geopandas/_compat.py:123: UserWarning: The Shapely GEOS version (3.11.1-CAPI-1.17.1) is incompatible with the GEOS version PyGEOS was compiled with (3.10.1-CAPI-1.16.0). Conversions between both will be slow.\n",
      "  warnings.warn(\n"
     ]
    }
   ],
   "source": [
    "import geopandas\n",
    "\n",
    "url = \"http://d2ad6b4ur7yvpq.cloudfront.net/naturalearth-3.3.0/ne_110m_land.geojson\"\n",
    "df = geopandas.read_file(url)\n",
    "wkb = pa.array(df.geometry.to_wkb())\n"
   ]
  },
  {
   "cell_type": "code",
   "execution_count": 7,
   "metadata": {},
   "outputs": [
    {
     "data": {
      "text/plain": [
       "VectorArray:WkbType(geoarrow.wkb <EPSG:4326>)[127]\n",
       "<POLYGON ((-59.57209469261153 -80.0401787250963, -59.8658493719746...>\n",
       "<POLYGON ((-159.2081835601977 -79.49705942170873, -161.12760128481...>\n",
       "<POLYGON ((-45.15475765642103 -78.04706960058674, -43.920827806155...>\n",
       "<POLYGON ((-121.2115113938571 -73.50099049900605, -119.91885127829...>\n",
       "<POLYGON ((-125.5595664068953 -73.48135345473521, -124.03188187726...>\n",
       "...117 values...\n",
       "<POLYGON ((51.13618655783139 80.54728017854103, 49.79368452332082 ...>\n",
       "<POLYGON ((99.93976000000001 78.88094, 97.75794 78.75620000000001,...>\n",
       "<POLYGON ((-87.02 79.66, -85.81435 79.3369, -87.18756 79.0393, -89...>\n",
       "<POLYGON ((-68.5 83.10632151676583, -65.82735 83.02801000000014, -...>\n",
       "<POLYGON ((-27.10046 83.51966, -20.84539 82.72669, -22.69182 82.34...>"
      ]
     },
     "execution_count": 7,
     "metadata": {},
     "output_type": "execute_result"
    }
   ],
   "source": [
    "ga.wkb().with_crs(str(df.geometry.crs)).wrap_array(wkb)"
   ]
  },
  {
   "attachments": {},
   "cell_type": "markdown",
   "metadata": {},
   "source": [
    "## Building\n",
    "\n",
    "Python bindings for nanoarrow are managed with setuptools[setuptools]. This means you\n",
    "can build the project using:\n",
    "\n",
    "```shell\n",
    "git clone https://github.com/geoarrow/geoarrow-cpp.git\n",
    "cd python\n",
    "pip install -e .\n",
    "```\n",
    "\n",
    "Tests use [pytest][pytest]:\n",
    "\n",
    "```shell\n",
    "# Install dependencies\n",
    "pip install -e .[test]\n",
    "\n",
    "# Run tests\n",
    "pytest -vvx\n",
    "```\n",
    "\n",
    "[pytest]: https://docs.pytest.org/\n",
    "[setuptools]: https://setuptools.pypa.io/en/latest/index.html"
   ]
  }
 ],
 "metadata": {
  "kernelspec": {
   "display_name": "Python 3",
   "language": "python",
   "name": "python3"
  },
  "language_info": {
   "codemirror_mode": {
    "name": "ipython",
    "version": 3
   },
   "file_extension": ".py",
   "mimetype": "text/x-python",
   "name": "python",
   "nbconvert_exporter": "python",
   "pygments_lexer": "ipython3",
   "version": "3.9.6"
  },
  "orig_nbformat": 4
 },
 "nbformat": 4,
 "nbformat_minor": 2
}
